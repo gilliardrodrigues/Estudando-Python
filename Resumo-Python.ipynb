{
 "cells": [
  {
   "cell_type": "markdown",
   "metadata": {},
   "source": [
    "## Resumão de Python do básico ao avançado"
   ]
  },
  {
   "cell_type": "markdown",
   "metadata": {},
   "source": [
    "### PEP8 - Boas práticas em Python:\n",
    "#### [1] - Utilize Camel Case para nomes de classes; exemplo: Calculadora, CalculadoraCientifica;\n",
    "#### [2] - Utilize nomes em minúsculo, separados por underline para funções ou variáveis;\n",
    "#### [3] - Utilize 4 espaços para identação (TAB não é recomendado pois diferentes computadores podem ter diferentes configurações);\n",
    "#### [4] - Linhas em branco; separar funções e definições de classe com 2 linhas em branco; métodos dentro de uma classe devem ser separados com 1 linha em branco;\n",
    "#### [5] - Imports sempre devem ser feitos em linhas separadas e no topo do arquivo;\n",
    "#### [6] - NÃO use espaços em expressões e instruções;\n",
    "#### [7] - Termine sempre uma instrução com uma nova linha;"
   ]
  },
  {
   "cell_type": "markdown",
   "metadata": {},
   "source": [
    "### Utilitários Python para auxiliar na programação:\n",
    "#### dir(tipo de dado/variável) -> Apresenta todos os atributos/propriedades e funções/métodos disponíveis para determinado tipo de dado ou variável;\n",
    "#### help(tipo de dado/variável.propriedade) -> Apresenta a documentação/como utilizar os atributos/propriedades e funções/métodos disponíveis para determinado tipo de dado ou variável;\n"
   ]
  },
  {
   "cell_type": "code",
   "execution_count": 1,
   "metadata": {},
   "outputs": [
    {
     "data": {
      "text/plain": [
       "['__add__',\n",
       " '__class__',\n",
       " '__contains__',\n",
       " '__delattr__',\n",
       " '__dir__',\n",
       " '__doc__',\n",
       " '__eq__',\n",
       " '__format__',\n",
       " '__ge__',\n",
       " '__getattribute__',\n",
       " '__getitem__',\n",
       " '__getnewargs__',\n",
       " '__gt__',\n",
       " '__hash__',\n",
       " '__init__',\n",
       " '__init_subclass__',\n",
       " '__iter__',\n",
       " '__le__',\n",
       " '__len__',\n",
       " '__lt__',\n",
       " '__mod__',\n",
       " '__mul__',\n",
       " '__ne__',\n",
       " '__new__',\n",
       " '__reduce__',\n",
       " '__reduce_ex__',\n",
       " '__repr__',\n",
       " '__rmod__',\n",
       " '__rmul__',\n",
       " '__setattr__',\n",
       " '__sizeof__',\n",
       " '__str__',\n",
       " '__subclasshook__',\n",
       " 'capitalize',\n",
       " 'casefold',\n",
       " 'center',\n",
       " 'count',\n",
       " 'encode',\n",
       " 'endswith',\n",
       " 'expandtabs',\n",
       " 'find',\n",
       " 'format',\n",
       " 'format_map',\n",
       " 'index',\n",
       " 'isalnum',\n",
       " 'isalpha',\n",
       " 'isascii',\n",
       " 'isdecimal',\n",
       " 'isdigit',\n",
       " 'isidentifier',\n",
       " 'islower',\n",
       " 'isnumeric',\n",
       " 'isprintable',\n",
       " 'isspace',\n",
       " 'istitle',\n",
       " 'isupper',\n",
       " 'join',\n",
       " 'ljust',\n",
       " 'lower',\n",
       " 'lstrip',\n",
       " 'maketrans',\n",
       " 'partition',\n",
       " 'replace',\n",
       " 'rfind',\n",
       " 'rindex',\n",
       " 'rjust',\n",
       " 'rpartition',\n",
       " 'rsplit',\n",
       " 'rstrip',\n",
       " 'split',\n",
       " 'splitlines',\n",
       " 'startswith',\n",
       " 'strip',\n",
       " 'swapcase',\n",
       " 'title',\n",
       " 'translate',\n",
       " 'upper',\n",
       " 'zfill']"
      ]
     },
     "execution_count": 1,
     "metadata": {},
     "output_type": "execute_result"
    }
   ],
   "source": [
    "# Exemplo:\n",
    "dir('gilliard')"
   ]
  },
  {
   "cell_type": "code",
   "execution_count": 2,
   "metadata": {},
   "outputs": [
    {
     "name": "stdout",
     "output_type": "stream",
     "text": [
      "Help on built-in function title:\n",
      "\n",
      "title() method of builtins.str instance\n",
      "    Return a version of the string where each word is titlecased.\n",
      "    \n",
      "    More specifically, words start with uppercased characters and all remaining\n",
      "    cased characters have lower case.\n",
      "\n"
     ]
    }
   ],
   "source": [
    "help('gilliard'.title)"
   ]
  },
  {
   "cell_type": "markdown",
   "metadata": {},
   "source": [
    "#### Python é uma linguagem de tipagem dinâmica. Isso significa que ao declararmos uma variável, nós não colocamos o tipo de dado dela. Esse tipo é inferido ao atribuírmos o valor à mesma."
   ]
  },
  {
   "cell_type": "markdown",
   "metadata": {},
   "source": [
    "### Recebendo dados do usuário e exibindo na tela:"
   ]
  },
  {
   "cell_type": "code",
   "execution_count": 3,
   "metadata": {},
   "outputs": [
    {
     "name": "stdout",
     "output_type": "stream",
     "text": [
      "Qual é o seu nome? \n",
      "Gilliard\n",
      "Seja bem-vindo(a) Gilliard\n",
      "Quantos anos você tem? 21\n",
      "Gilliard tem 21 anos\n",
      "Gilliard tem 21 anos\n",
      "Gilliard tem 21 anos\n",
      "Gilliard tem 21 anos\n",
      "Gilliard nasceu em 2000\n"
     ]
    }
   ],
   "source": [
    "print(\"Qual é o seu nome? \")\n",
    "nome = input()  # Forma mais simples do input\n",
    "print('Seja bem-vindo(a) %s' % nome)  # Forma mais arcaica do print\n",
    "idade = input('Quantos anos você tem? ')  # Forma mais moderna do input\n",
    "print(\"%s tem %s anos\" % (nome, idade))  # 1ª forma de printar (arcaica)\n",
    "print(\"{0} tem {1} anos\".format(nome, idade))  # 2ª forma de printar\n",
    "print(nome + ' tem ' + idade + ' anos')  #3ª forma de printar\n",
    "print(f'{nome} tem {idade} anos')  # 4ª forma de printar (mais atual)\n",
    "print(\n",
    "    f'{nome} nasceu em {2021 - int(idade)}'\n",
    ")  #Usa-se o cast para converter 'idade' para int pois tudo que é lido pelo input vira string;\n",
    "#Se você utilizar o cast no input, não precisa usar na linha anterior, mas aí por outro lado vai precisar utilizar o cast str() na 3ª forma de printar;"
   ]
  },
  {
   "cell_type": "code",
   "execution_count": 4,
   "metadata": {},
   "outputs": [
    {
     "name": "stdout",
     "output_type": "stream",
     "text": [
      "2.5\n"
     ]
    },
    {
     "data": {
      "text/plain": [
       "float"
      ]
     },
     "execution_count": 4,
     "metadata": {},
     "output_type": "execute_result"
    }
   ],
   "source": [
    "x = 5 / 2  # Divisão normal, retorna um float\n",
    "print(x)\n",
    "type(x)"
   ]
  },
  {
   "cell_type": "code",
   "execution_count": 5,
   "metadata": {},
   "outputs": [
    {
     "name": "stdout",
     "output_type": "stream",
     "text": [
      "2\n"
     ]
    },
    {
     "data": {
      "text/plain": [
       "int"
      ]
     },
     "execution_count": 5,
     "metadata": {},
     "output_type": "execute_result"
    }
   ],
   "source": [
    "x = 5 // 2  # Divisão de inteiros, retorna um int\n",
    "print(x)\n",
    "type(x)"
   ]
  },
  {
   "cell_type": "code",
   "execution_count": 6,
   "metadata": {},
   "outputs": [
    {
     "data": {
      "text/plain": [
       "16"
      ]
     },
     "execution_count": 6,
     "metadata": {},
     "output_type": "execute_result"
    }
   ],
   "source": [
    "2**4  # Operador de potência em Python"
   ]
  },
  {
   "cell_type": "code",
   "execution_count": 7,
   "metadata": {},
   "outputs": [
    {
     "data": {
      "text/plain": [
       "1000000"
      ]
     },
     "execution_count": 7,
     "metadata": {},
     "output_type": "execute_result"
    }
   ],
   "source": [
    "1_000_000  #Python permite dividir os algarismos pra facilitar a leitura"
   ]
  },
  {
   "cell_type": "code",
   "execution_count": 8,
   "metadata": {},
   "outputs": [
    {
     "name": "stdout",
     "output_type": "stream",
     "text": [
      "1\n",
      "2\n"
     ]
    }
   ],
   "source": [
    "x, y = 1, 2  # É possível fazer dupla atribuição numa linha\n",
    "print(x)\n",
    "print(y)"
   ]
  },
  {
   "cell_type": "markdown",
   "metadata": {},
   "source": [
    "#### Tipos booleanos:"
   ]
  },
  {
   "cell_type": "code",
   "execution_count": 9,
   "metadata": {},
   "outputs": [
    {
     "data": {
      "text/plain": [
       "True"
      ]
     },
     "execution_count": 9,
     "metadata": {},
     "output_type": "execute_result"
    }
   ],
   "source": [
    "x = False\n",
    "not x"
   ]
  },
  {
   "cell_type": "code",
   "execution_count": 10,
   "metadata": {},
   "outputs": [
    {
     "data": {
      "text/plain": [
       "False"
      ]
     },
     "execution_count": 10,
     "metadata": {},
     "output_type": "execute_result"
    }
   ],
   "source": [
    "x, y = True, False\n",
    "x and y"
   ]
  },
  {
   "cell_type": "code",
   "execution_count": 11,
   "metadata": {},
   "outputs": [
    {
     "data": {
      "text/plain": [
       "True"
      ]
     },
     "execution_count": 11,
     "metadata": {},
     "output_type": "execute_result"
    }
   ],
   "source": [
    "x, y = True, False\n",
    "x or y"
   ]
  },
  {
   "cell_type": "markdown",
   "metadata": {},
   "source": [
    "#### O Python lê dados entre aspas simples/duplas/triplas simples/ triplas duplas como string"
   ]
  },
  {
   "cell_type": "code",
   "execution_count": 12,
   "metadata": {},
   "outputs": [
    {
     "name": "stdout",
     "output_type": "stream",
     "text": [
      "Angelina \n",
      "Jolie\n",
      "\n",
      "\n",
      "Angelina\n",
      "Jolie\n"
     ]
    }
   ],
   "source": [
    "print('Angelina \\nJolie')  ### \\n no print pula linha, assim como em C\n",
    "print('\\n')\n",
    "print('''Angelina\n",
    "Jolie''')  ### Assim também pula"
   ]
  },
  {
   "cell_type": "markdown",
   "metadata": {},
   "source": [
    "#### Utilidades com strings:"
   ]
  },
  {
   "cell_type": "code",
   "execution_count": 13,
   "metadata": {},
   "outputs": [
    {
     "data": {
      "text/plain": [
       "'Gilliard Rodrigues'"
      ]
     },
     "execution_count": 13,
     "metadata": {},
     "output_type": "execute_result"
    }
   ],
   "source": [
    "nome = \"Gilliard\"\n",
    "nome + \" Rodrigues\""
   ]
  },
  {
   "cell_type": "code",
   "execution_count": 14,
   "metadata": {},
   "outputs": [
    {
     "data": {
      "text/plain": [
       "'GilliardGilliardGilliard'"
      ]
     },
     "execution_count": 14,
     "metadata": {},
     "output_type": "execute_result"
    }
   ],
   "source": [
    "nome * 3"
   ]
  },
  {
   "cell_type": "markdown",
   "metadata": {},
   "source": [
    "### Métodos envolvendo string:\n",
    "#### lower() -> converte a string toda em minúsculo;\n",
    "#### upper() -> converte a string toda em maiúsculo;\n",
    "#### title() -> deixa a primeira letra da palavra em maiúsculo e o resto em minúsculo;\n",
    "#### split() -> divide um texto por palavras e armazena numa lista;\n",
    "#### replace('x', 'y') -> troca uma letra x por uma letra y na string;"
   ]
  },
  {
   "cell_type": "code",
   "execution_count": 15,
   "metadata": {},
   "outputs": [
    {
     "data": {
      "text/plain": [
       "'GILLIARD'"
      ]
     },
     "execution_count": 15,
     "metadata": {},
     "output_type": "execute_result"
    }
   ],
   "source": [
    "nome = 'gilliard'\n",
    "nome.upper()"
   ]
  },
  {
   "cell_type": "code",
   "execution_count": 16,
   "metadata": {},
   "outputs": [
    {
     "data": {
      "text/plain": [
       "'gilliard'"
      ]
     },
     "execution_count": 16,
     "metadata": {},
     "output_type": "execute_result"
    }
   ],
   "source": [
    "nome.lower()"
   ]
  },
  {
   "cell_type": "code",
   "execution_count": 17,
   "metadata": {},
   "outputs": [
    {
     "data": {
      "text/plain": [
       "'Gilliard'"
      ]
     },
     "execution_count": 17,
     "metadata": {},
     "output_type": "execute_result"
    }
   ],
   "source": [
    "nome.title()"
   ]
  },
  {
   "cell_type": "code",
   "execution_count": 18,
   "metadata": {},
   "outputs": [
    {
     "data": {
      "text/plain": [
       "['Hoje', 'não', 'choveu']"
      ]
     },
     "execution_count": 18,
     "metadata": {},
     "output_type": "execute_result"
    }
   ],
   "source": [
    "texto = 'Hoje não choveu'\n",
    "texto.split()"
   ]
  },
  {
   "cell_type": "code",
   "execution_count": 19,
   "metadata": {},
   "outputs": [
    {
     "data": {
      "text/plain": [
       "'Hoje'"
      ]
     },
     "execution_count": 19,
     "metadata": {},
     "output_type": "execute_result"
    }
   ],
   "source": [
    "texto[0:4]  # Slice de string; pega do índice 0 até o 3, intervalo (begin, end]"
   ]
  },
  {
   "cell_type": "code",
   "execution_count": 20,
   "metadata": {},
   "outputs": [
    {
     "data": {
      "text/plain": [
       "'draillig'"
      ]
     },
     "execution_count": 20,
     "metadata": {},
     "output_type": "execute_result"
    }
   ],
   "source": [
    "nome[::-1]  # Vai do primeiro até o último elemento e inverte"
   ]
  },
  {
   "cell_type": "code",
   "execution_count": 21,
   "metadata": {},
   "outputs": [
    {
     "data": {
      "text/plain": [
       "'Gilliard'"
      ]
     },
     "execution_count": 21,
     "metadata": {},
     "output_type": "execute_result"
    }
   ],
   "source": [
    "nome.replace('g', 'G')"
   ]
  },
  {
   "cell_type": "markdown",
   "metadata": {},
   "source": [
    "#### - Variável global: seu escopo compreende todo o programa;\n",
    "#### - Variável local: seu escopo está limitado ao bloco no qual foi declarada;"
   ]
  },
  {
   "cell_type": "markdown",
   "metadata": {},
   "source": [
    "### Estruturas condicionais:\n",
    "\n",
    "#### - if, else e elif"
   ]
  },
  {
   "cell_type": "code",
   "execution_count": 22,
   "metadata": {},
   "outputs": [
    {
     "name": "stdout",
     "output_type": "stream",
     "text": [
      "Digite sua idade:21\n",
      "Já tem mais de 18 anos\n"
     ]
    }
   ],
   "source": [
    "idade = int(input(\"Digite sua idade:\"))\n",
    "if idade < 18:\n",
    "    print(\"Menor de idade\")\n",
    "elif idade == 18:\n",
    "    print(\"Tem 18 anos\")\n",
    "else:\n",
    "    print(\"Já tem mais de 18 anos\")"
   ]
  },
  {
   "cell_type": "markdown",
   "metadata": {},
   "source": [
    "### Estruturas lógicas:\n",
    "#### - not, is (operadores unários)\n",
    "#### - and, or (operadores binários)"
   ]
  },
  {
   "cell_type": "code",
   "execution_count": 23,
   "metadata": {},
   "outputs": [
    {
     "name": "stdout",
     "output_type": "stream",
     "text": [
      "Você precisa ativar sua conta. Por favor, cheque seu e-mail\n"
     ]
    }
   ],
   "source": [
    "ativo = False\n",
    "logado = True\n",
    "\n",
    "if ativo and logado:\n",
    "    print(\"Bem-vindo!\")\n",
    "else:\n",
    "    print(\"Você precisa ativar sua conta. Por favor, cheque seu e-mail\")"
   ]
  },
  {
   "cell_type": "code",
   "execution_count": 24,
   "metadata": {},
   "outputs": [
    {
     "name": "stdout",
     "output_type": "stream",
     "text": [
      "Ative sua conta!\n"
     ]
    }
   ],
   "source": [
    "if not ativo:\n",
    "    print(\"Ative sua conta!\")\n",
    "else:\n",
    "    print(\"Bem-vindo!\")"
   ]
  },
  {
   "cell_type": "code",
   "execution_count": 25,
   "metadata": {},
   "outputs": [
    {
     "name": "stdout",
     "output_type": "stream",
     "text": [
      "Ative sua conta!\n"
     ]
    }
   ],
   "source": [
    "if ativo is False:\n",
    "    print(\"Ative sua conta!\")\n",
    "else:\n",
    "    print(\"Bem-vindo!\")"
   ]
  },
  {
   "cell_type": "code",
   "execution_count": 26,
   "metadata": {},
   "outputs": [
    {
     "name": "stdout",
     "output_type": "stream",
     "text": [
      "Agora insira sua senha!\n"
     ]
    }
   ],
   "source": [
    "usuario = True\n",
    "email = False\n",
    "\n",
    "if usuario or email:\n",
    "    print(\"Agora insira sua senha!\")\n",
    "else:\n",
    "    print(\"Insira seu nome de usuário ou email!\")"
   ]
  },
  {
   "cell_type": "code",
   "execution_count": 27,
   "metadata": {},
   "outputs": [
    {
     "name": "stdout",
     "output_type": "stream",
     "text": [
      "True\n"
     ]
    }
   ],
   "source": [
    "ativo = False\n",
    "print(ativo is False)"
   ]
  },
  {
   "cell_type": "markdown",
   "metadata": {},
   "source": [
    "### Estruturas de iteração em Python:\n"
   ]
  },
  {
   "cell_type": "markdown",
   "metadata": {},
   "source": [
    "#### - _for_ em Python: \n",
    " \n",
    "####  for item in iterável: execução do loop\n",
    "\n",
    " \n",
    "#### Exemplos de iteráveis: string, lista, range..."
   ]
  },
  {
   "cell_type": "code",
   "execution_count": 28,
   "metadata": {},
   "outputs": [
    {
     "name": "stdout",
     "output_type": "stream",
     "text": [
      "D\n",
      "a\n",
      "t\n",
      "a\n",
      " \n",
      "S\n",
      "c\n",
      "i\n",
      "e\n",
      "n\n",
      "c\n",
      "e\n"
     ]
    }
   ],
   "source": [
    "frase = 'Data Science'\n",
    "lista = [2, 4, 6, 8, 10]\n",
    "numeros = range(1, 10)\n",
    "\n",
    "# Iterando sobre uma string:\n",
    "for letra in frase:\n",
    "    print(letra)"
   ]
  },
  {
   "cell_type": "code",
   "execution_count": 29,
   "metadata": {},
   "outputs": [
    {
     "name": "stdout",
     "output_type": "stream",
     "text": [
      "2\n",
      "4\n",
      "6\n",
      "8\n",
      "10\n"
     ]
    }
   ],
   "source": [
    "# Iterando sobre uma lista:\n",
    "for numero in lista:\n",
    "    print(numero)"
   ]
  },
  {
   "cell_type": "code",
   "execution_count": 30,
   "metadata": {},
   "outputs": [
    {
     "name": "stdout",
     "output_type": "stream",
     "text": [
      "1\n",
      "2\n",
      "3\n",
      "4\n",
      "5\n",
      "6\n",
      "7\n",
      "8\n",
      "9\n"
     ]
    }
   ],
   "source": [
    "# Iterando sobre um range:\n",
    "for numero in range(1, 10):  # 1 está incluso e 10 está excluso.\n",
    "    print(numero)"
   ]
  },
  {
   "cell_type": "markdown",
   "metadata": {},
   "source": [
    "#### Há também o enumerate, que pega a string e cria um índice para cada elemento da sequência, deixando desse jeito:\n",
    "#### ((0, 'D'), (1, 'a'), (2, 't'), (3, 'a'), (4, ' '), (5, 'S'), (6, 'c'), (7, 'i'), (8, 'e'), (9, 'n'), (10, 'c'), (11, 'e'))\n",
    "#### Dessa forma, o _for_ itera sobre os índices!"
   ]
  },
  {
   "cell_type": "code",
   "execution_count": 31,
   "metadata": {},
   "outputs": [
    {
     "name": "stdout",
     "output_type": "stream",
     "text": [
      "D\n",
      "a\n",
      "t\n",
      "a\n",
      " \n",
      "S\n",
      "c\n",
      "i\n",
      "e\n",
      "n\n",
      "c\n",
      "e\n"
     ]
    }
   ],
   "source": [
    "# Usando o enumerate:\n",
    "\n",
    "for indice, letra in enumerate(frase):\n",
    "    print(frase[indice])"
   ]
  },
  {
   "cell_type": "code",
   "execution_count": 32,
   "metadata": {},
   "outputs": [
    {
     "name": "stdout",
     "output_type": "stream",
     "text": [
      "D\n",
      "a\n",
      "t\n",
      "a\n",
      " \n",
      "S\n",
      "c\n",
      "i\n",
      "e\n",
      "n\n",
      "c\n",
      "e\n"
     ]
    }
   ],
   "source": [
    "for indice, letra in enumerate(frase):\n",
    "    print(letra)"
   ]
  },
  {
   "cell_type": "code",
   "execution_count": 33,
   "metadata": {},
   "outputs": [
    {
     "name": "stdout",
     "output_type": "stream",
     "text": [
      "D\n",
      "a\n",
      "t\n",
      "a\n",
      " \n",
      "S\n",
      "c\n",
      "i\n",
      "e\n",
      "n\n",
      "c\n",
      "e\n"
     ]
    }
   ],
   "source": [
    "for _, letra in enumerate(\n",
    "        frase\n",
    "):  # Quando não precisamos de um valor, podemos descartá-lo usando o _\n",
    "    print(letra)"
   ]
  },
  {
   "cell_type": "code",
   "execution_count": 34,
   "metadata": {},
   "outputs": [
    {
     "name": "stdout",
     "output_type": "stream",
     "text": [
      "(0, 'D')\n",
      "(1, 'a')\n",
      "(2, 't')\n",
      "(3, 'a')\n",
      "(4, ' ')\n",
      "(5, 'S')\n",
      "(6, 'c')\n",
      "(7, 'i')\n",
      "(8, 'e')\n",
      "(9, 'n')\n",
      "(10, 'c')\n",
      "(11, 'e')\n"
     ]
    }
   ],
   "source": [
    "# Imprimindo tudo da forma que o enumerate deixa:\n",
    "for valor in enumerate(frase):\n",
    "    print(valor)"
   ]
  },
  {
   "cell_type": "code",
   "execution_count": 35,
   "metadata": {},
   "outputs": [
    {
     "name": "stdout",
     "output_type": "stream",
     "text": [
      "0\n",
      "1\n",
      "2\n",
      "3\n",
      "4\n",
      "5\n",
      "6\n",
      "7\n",
      "8\n",
      "9\n",
      "10\n",
      "11\n"
     ]
    }
   ],
   "source": [
    "# Imprimindo apenas os índices:\n",
    "for valor in enumerate(frase):\n",
    "    print(valor[0])"
   ]
  },
  {
   "cell_type": "code",
   "execution_count": 36,
   "metadata": {},
   "outputs": [
    {
     "name": "stdout",
     "output_type": "stream",
     "text": [
      "D\n",
      "a\n",
      "t\n",
      "a\n",
      " \n",
      "S\n",
      "c\n",
      "i\n",
      "e\n",
      "n\n",
      "c\n",
      "e\n"
     ]
    }
   ],
   "source": [
    "# Outra forma de imprimir as letras:\n",
    "for valor in enumerate(frase):\n",
    "    print(valor[1])"
   ]
  },
  {
   "cell_type": "code",
   "execution_count": 37,
   "metadata": {},
   "outputs": [
    {
     "name": "stdout",
     "output_type": "stream",
     "text": [
      "Insira o limite superior do for:10\n",
      "Iteração 0\n",
      "Iteração 1\n",
      "Iteração 2\n",
      "Iteração 3\n",
      "Iteração 4\n",
      "Iteração 5\n",
      "Iteração 6\n",
      "Iteração 7\n",
      "Iteração 8\n",
      "Iteração 9\n"
     ]
    }
   ],
   "source": [
    "n = int(input(\"Insira o limite superior do for:\"))\n",
    "\n",
    "for i in range(0, n):\n",
    "    print(f\"Iteração {i}\")"
   ]
  },
  {
   "cell_type": "code",
   "execution_count": 38,
   "metadata": {},
   "outputs": [
    {
     "name": "stdout",
     "output_type": "stream",
     "text": [
      "Data Science"
     ]
    }
   ],
   "source": [
    "for letra in frase:\n",
    "    print(letra, end='')  #Com o end='' não pula linha"
   ]
  },
  {
   "cell_type": "markdown",
   "metadata": {},
   "source": [
    "#### Entendendo melhor o _range_ :\n",
    "#### - Ranges são usados para gerar sequências numéricas especificadas.\n",
    "#### - Exemplos:"
   ]
  },
  {
   "cell_type": "code",
   "execution_count": 39,
   "metadata": {},
   "outputs": [
    {
     "name": "stdout",
     "output_type": "stream",
     "text": [
      "0\n",
      "1\n",
      "2\n",
      "3\n",
      "4\n",
      "5\n",
      "6\n",
      "7\n",
      "8\n",
      "9\n",
      "10\n"
     ]
    }
   ],
   "source": [
    "for num in range(\n",
    "        11\n",
    "):  # Por padrão, o valor de início é 0 e o valor de parada não é incluso (11 fica de fora!)\n",
    "    print(num)"
   ]
  },
  {
   "cell_type": "code",
   "execution_count": 40,
   "metadata": {},
   "outputs": [
    {
     "name": "stdout",
     "output_type": "stream",
     "text": [
      "1\n",
      "2\n",
      "3\n",
      "4\n",
      "5\n",
      "6\n",
      "7\n",
      "8\n",
      "9\n",
      "10\n"
     ]
    }
   ],
   "source": [
    "for num in range(1, 11):  # Utilizando valor de início como 1\n",
    "    print(num)"
   ]
  },
  {
   "cell_type": "code",
   "execution_count": 41,
   "metadata": {},
   "outputs": [
    {
     "name": "stdout",
     "output_type": "stream",
     "text": [
      "1\n",
      "3\n",
      "5\n",
      "7\n",
      "9\n"
     ]
    }
   ],
   "source": [
    "for num in range(\n",
    "        1, 11, 2\n",
    "):  # Com esse 3º parâmetro é possível escolher os passos, como ir de 2 em 2!\n",
    "    print(num)"
   ]
  },
  {
   "cell_type": "code",
   "execution_count": 42,
   "metadata": {},
   "outputs": [
    {
     "name": "stdout",
     "output_type": "stream",
     "text": [
      "10\n",
      "9\n",
      "8\n",
      "7\n",
      "6\n",
      "5\n",
      "4\n",
      "3\n",
      "2\n",
      "1\n"
     ]
    }
   ],
   "source": [
    "for num in range(10, 0, -1):  # É possível usar de forma decrescente também!\n",
    "    print(num)"
   ]
  },
  {
   "cell_type": "markdown",
   "metadata": {},
   "source": [
    "#### - while: "
   ]
  },
  {
   "cell_type": "code",
   "execution_count": 43,
   "metadata": {},
   "outputs": [
    {
     "name": "stdout",
     "output_type": "stream",
     "text": [
      "10\n",
      "9\n",
      "8\n",
      "7\n",
      "6\n",
      "5\n",
      "4\n",
      "3\n",
      "2\n",
      "1\n"
     ]
    }
   ],
   "source": [
    "valor = 10\n",
    "while valor > 0:  # expressão booleana que servirá como condição para o loop continuar\n",
    "    print(valor)\n",
    "    valor -= 1  # decrementa \"valor\""
   ]
  },
  {
   "cell_type": "code",
   "execution_count": 44,
   "metadata": {},
   "outputs": [
    {
     "name": "stdout",
     "output_type": "stream",
     "text": [
      "Deseja continuar? sim\n",
      "Deseja continuar? sim\n",
      "Deseja continuar? não\n"
     ]
    }
   ],
   "source": [
    "resposta = \"\"\n",
    "while resposta != \"não\":\n",
    "    resposta = input(\"Deseja continuar? \")"
   ]
  },
  {
   "cell_type": "markdown",
   "metadata": {},
   "source": [
    "#### O _break_ permite sair do loop de forma projetada, como por exemplo:"
   ]
  },
  {
   "cell_type": "code",
   "execution_count": 45,
   "metadata": {},
   "outputs": [
    {
     "name": "stdout",
     "output_type": "stream",
     "text": [
      "0\n",
      "10\n",
      "20\n",
      "30\n",
      "40\n",
      "50\n",
      "60\n",
      "Fim\n"
     ]
    }
   ],
   "source": [
    "for i in range(0, 101, 10):\n",
    "    if i > 60:\n",
    "        break\n",
    "    print(i)\n",
    "print(\"Fim\")"
   ]
  },
  {
   "cell_type": "code",
   "execution_count": 46,
   "metadata": {},
   "outputs": [
    {
     "name": "stdout",
     "output_type": "stream",
     "text": [
      "Para sair digite 'sair': continuar\n",
      "Para sair digite 'sair': não\n",
      "Para sair digite 'sair': sair\n",
      "Pronto!\n"
     ]
    }
   ],
   "source": [
    "while (1):  # 1 = True\n",
    "    operacao = input(\"Para sair digite 'sair': \")\n",
    "    if operacao == 'sair':\n",
    "        break\n",
    "print(\"Pronto!\")"
   ]
  },
  {
   "cell_type": "markdown",
   "metadata": {},
   "source": [
    "### Coleções em Python:\n"
   ]
  },
  {
   "cell_type": "markdown",
   "metadata": {},
   "source": [
    "#### - Listas: \n",
    "Listas em Python funcionam como vetores/matrizes (arrays) em outras linguagens, com a diferença de serem dinâmicas e também podermos colocar qualquer tipo de dado !\n",
    "\n",
    "As listas em Python são representadas por colchetes [ ]."
   ]
  },
  {
   "cell_type": "code",
   "execution_count": 47,
   "metadata": {},
   "outputs": [
    {
     "name": "stdout",
     "output_type": "stream",
     "text": [
      "<class 'list'>\n",
      "<class 'list'>\n"
     ]
    }
   ],
   "source": [
    "lista1 = [16, 24, 32]\n",
    "lista2 = ['B', 'o', 'l', 'a']\n",
    "print(type(lista1))\n",
    "print(type(lista2))"
   ]
  },
  {
   "cell_type": "markdown",
   "metadata": {},
   "source": [
    "Outro jeito de criar listas:"
   ]
  },
  {
   "cell_type": "code",
   "execution_count": 48,
   "metadata": {},
   "outputs": [
    {
     "data": {
      "text/plain": [
       "[0, 1, 2, 3, 4, 5, 6, 7, 8, 9, 10]"
      ]
     },
     "execution_count": 48,
     "metadata": {},
     "output_type": "execute_result"
    }
   ],
   "source": [
    "lista3 = list(range(0, 11))\n",
    "lista3"
   ]
  },
  {
   "cell_type": "code",
   "execution_count": 49,
   "metadata": {},
   "outputs": [
    {
     "data": {
      "text/plain": [
       "['C', 'a', 'c', 'h', 'o', 'r', 'r', 'o']"
      ]
     },
     "execution_count": 49,
     "metadata": {},
     "output_type": "execute_result"
    }
   ],
   "source": [
    "lista4 = list(\"Cachorro\")\n",
    "lista4"
   ]
  },
  {
   "cell_type": "markdown",
   "metadata": {},
   "source": [
    "Verificando se um número está na lista:"
   ]
  },
  {
   "cell_type": "code",
   "execution_count": 50,
   "metadata": {},
   "outputs": [
    {
     "name": "stdout",
     "output_type": "stream",
     "text": [
      "Número 4 encontrado!\n"
     ]
    }
   ],
   "source": [
    "num = 4\n",
    "if num in lista3:\n",
    "    print(f\"Número {num} encontrado!\")\n",
    "else:\n",
    "    print(f\"Número {num} não encontrado!\")"
   ]
  },
  {
   "cell_type": "markdown",
   "metadata": {},
   "source": [
    "Vamos ver com quais métodos **list** nos permite trabalhar:"
   ]
  },
  {
   "cell_type": "code",
   "execution_count": 51,
   "metadata": {},
   "outputs": [
    {
     "data": {
      "text/plain": [
       "['__add__',\n",
       " '__class__',\n",
       " '__contains__',\n",
       " '__delattr__',\n",
       " '__delitem__',\n",
       " '__dir__',\n",
       " '__doc__',\n",
       " '__eq__',\n",
       " '__format__',\n",
       " '__ge__',\n",
       " '__getattribute__',\n",
       " '__getitem__',\n",
       " '__gt__',\n",
       " '__hash__',\n",
       " '__iadd__',\n",
       " '__imul__',\n",
       " '__init__',\n",
       " '__init_subclass__',\n",
       " '__iter__',\n",
       " '__le__',\n",
       " '__len__',\n",
       " '__lt__',\n",
       " '__mul__',\n",
       " '__ne__',\n",
       " '__new__',\n",
       " '__reduce__',\n",
       " '__reduce_ex__',\n",
       " '__repr__',\n",
       " '__reversed__',\n",
       " '__rmul__',\n",
       " '__setattr__',\n",
       " '__setitem__',\n",
       " '__sizeof__',\n",
       " '__str__',\n",
       " '__subclasshook__',\n",
       " 'append',\n",
       " 'clear',\n",
       " 'copy',\n",
       " 'count',\n",
       " 'extend',\n",
       " 'index',\n",
       " 'insert',\n",
       " 'pop',\n",
       " 'remove',\n",
       " 'reverse',\n",
       " 'sort']"
      ]
     },
     "execution_count": 51,
     "metadata": {},
     "output_type": "execute_result"
    }
   ],
   "source": [
    "dir(list)"
   ]
  },
  {
   "cell_type": "markdown",
   "metadata": {},
   "source": [
    "Ordenando uma lista:"
   ]
  },
  {
   "cell_type": "code",
   "execution_count": 52,
   "metadata": {},
   "outputs": [
    {
     "data": {
      "text/plain": [
       "[1, 2, 3, 5, 6, 24, 85, 104, 1001, 5024]"
      ]
     },
     "execution_count": 52,
     "metadata": {},
     "output_type": "execute_result"
    }
   ],
   "source": [
    "lista5 = [5, 1, 3, 2, 85, 1001, 5024, 104, 24, 6]\n",
    "lista5.sort()\n",
    "lista5"
   ]
  },
  {
   "cell_type": "markdown",
   "metadata": {},
   "source": [
    "Verificando quantas ocorrências de um valor há na lista:"
   ]
  },
  {
   "cell_type": "code",
   "execution_count": 53,
   "metadata": {},
   "outputs": [
    {
     "name": "stdout",
     "output_type": "stream",
     "text": [
      "['C', 'a', 'c', 'h', 'o', 'r', 'r', 'o']\n",
      "\n",
      "Número de ocorrências de 'o': 2\n"
     ]
    }
   ],
   "source": [
    "print(lista4)\n",
    "letra = 'o'\n",
    "print(f\"\\nNúmero de ocorrências de '{letra}': \" + str(lista4.count('o')))"
   ]
  },
  {
   "cell_type": "markdown",
   "metadata": {},
   "source": [
    "Adicionando 1 elemento no final da lista:"
   ]
  },
  {
   "cell_type": "code",
   "execution_count": 54,
   "metadata": {},
   "outputs": [
    {
     "name": "stdout",
     "output_type": "stream",
     "text": [
      "[1, 2, 3, 5, 6, 24, 85, 104, 1001, 5024]\n",
      "\n",
      "\n",
      "[1, 2, 3, 5, 6, 24, 85, 104, 1001, 5024, 16]\n"
     ]
    }
   ],
   "source": [
    "print(lista5)\n",
    "lista5.append(16)\n",
    "print('\\n')\n",
    "print(lista5)"
   ]
  },
  {
   "cell_type": "markdown",
   "metadata": {},
   "source": [
    "Adicionando mais de 1 elemento no final da lista:"
   ]
  },
  {
   "cell_type": "code",
   "execution_count": 55,
   "metadata": {},
   "outputs": [
    {
     "name": "stdout",
     "output_type": "stream",
     "text": [
      "[1, 2, 3, 5, 6, 24, 85, 104, 1001, 5024, 16, 19, 36, 711]\n"
     ]
    }
   ],
   "source": [
    "lista5.extend([19, 36, 711])\n",
    "print(lista5)"
   ]
  },
  {
   "cell_type": "markdown",
   "metadata": {},
   "source": [
    "Para adicionar mais de 1 elemento numa lista deve-se usar o **extend**, passando os n elementos dentro de colchetes. Se você fizer isso com o **append**, não estará adicionando os n elementos à lista, mas sim uma lista de n elementos à lista, portanto tenha atenção!"
   ]
  },
  {
   "cell_type": "markdown",
   "metadata": {},
   "source": [
    "Adicionando um elemento na n-ésima posição da lista:"
   ]
  },
  {
   "cell_type": "code",
   "execution_count": 56,
   "metadata": {},
   "outputs": [
    {
     "name": "stdout",
     "output_type": "stream",
     "text": [
      "[1, 2, 3, 'Novo valor', 5, 6, 24, 85, 104, 1001, 5024, 16, 19, 36, 711]\n"
     ]
    }
   ],
   "source": [
    "lista5.insert(3, \"Novo valor\")\n",
    "print(lista5)"
   ]
  },
  {
   "cell_type": "markdown",
   "metadata": {},
   "source": [
    "Juntando 2 listas em uma:"
   ]
  },
  {
   "cell_type": "code",
   "execution_count": 57,
   "metadata": {},
   "outputs": [
    {
     "name": "stdout",
     "output_type": "stream",
     "text": [
      "[1, 2, 3, 'Novo valor', 5, 6, 24, 85, 104, 1001, 5024, 16, 19, 36, 711, 'C', 'a', 'c', 'h', 'o', 'r', 'r', 'o']\n"
     ]
    }
   ],
   "source": [
    "lista6 = lista5 + lista4\n",
    "print(lista6)"
   ]
  },
  {
   "cell_type": "markdown",
   "metadata": {},
   "source": [
    "Outro jeito:"
   ]
  },
  {
   "cell_type": "code",
   "execution_count": 58,
   "metadata": {},
   "outputs": [
    {
     "name": "stdout",
     "output_type": "stream",
     "text": [
      "[16, 24, 32]\n",
      "['B', 'o', 'l', 'a']\n",
      "[16, 24, 32, 'B', 'o', 'l', 'a']\n"
     ]
    }
   ],
   "source": [
    "print(lista1)\n",
    "print(lista2)\n",
    "lista1.extend(lista2)\n",
    "print(lista1)"
   ]
  },
  {
   "cell_type": "markdown",
   "metadata": {},
   "source": [
    "Imprimindo lista na ordem inversa:"
   ]
  },
  {
   "cell_type": "code",
   "execution_count": 59,
   "metadata": {},
   "outputs": [
    {
     "name": "stdout",
     "output_type": "stream",
     "text": [
      "[16, 24, 32, 'B', 'o', 'l', 'a']\n",
      "\n",
      "\n",
      "['a', 'l', 'o', 'B', 32, 24, 16]\n"
     ]
    }
   ],
   "source": [
    "# Forma 1:\n",
    "print(lista1)\n",
    "print('\\n')\n",
    "lista1.reverse()\n",
    "print(lista1)"
   ]
  },
  {
   "cell_type": "code",
   "execution_count": 60,
   "metadata": {},
   "outputs": [
    {
     "name": "stdout",
     "output_type": "stream",
     "text": [
      "[16, 24, 32, 'B', 'o', 'l', 'a']\n"
     ]
    }
   ],
   "source": [
    "# Forma 2:\n",
    "print(lista1[::-1])"
   ]
  },
  {
   "cell_type": "markdown",
   "metadata": {},
   "source": [
    "Copiando uma lista:"
   ]
  },
  {
   "cell_type": "code",
   "execution_count": 61,
   "metadata": {},
   "outputs": [
    {
     "name": "stdout",
     "output_type": "stream",
     "text": [
      "[1, 2, 3, 'Novo valor', 5, 6, 24, 85, 104, 1001, 5024, 16, 19, 36, 711, 'C', 'a', 'c', 'h', 'o', 'r', 'r', 'o']\n",
      "[1, 2, 3, 'Novo valor', 5, 6, 24, 85, 104, 1001, 5024, 16, 19, 36, 711, 'C', 'a', 'c', 'h', 'o', 'r', 'r', 'o']\n"
     ]
    }
   ],
   "source": [
    "print(lista6)\n",
    "lista7 = lista6.copy()\n",
    "print(lista7)"
   ]
  },
  {
   "cell_type": "markdown",
   "metadata": {},
   "source": [
    "Verificando o tamanho da lista:"
   ]
  },
  {
   "cell_type": "code",
   "execution_count": 62,
   "metadata": {},
   "outputs": [
    {
     "name": "stdout",
     "output_type": "stream",
     "text": [
      "23\n"
     ]
    }
   ],
   "source": [
    "print(len(lista7))"
   ]
  },
  {
   "cell_type": "markdown",
   "metadata": {},
   "source": [
    "Removendo e retornando o último elemento da lista:"
   ]
  },
  {
   "cell_type": "code",
   "execution_count": 63,
   "metadata": {},
   "outputs": [
    {
     "data": {
      "text/plain": [
       "'o'"
      ]
     },
     "execution_count": 63,
     "metadata": {},
     "output_type": "execute_result"
    }
   ],
   "source": [
    "lista7.pop()"
   ]
  },
  {
   "cell_type": "code",
   "execution_count": 64,
   "metadata": {},
   "outputs": [
    {
     "name": "stdout",
     "output_type": "stream",
     "text": [
      "[1, 2, 3, 'Novo valor', 5, 6, 24, 85, 104, 1001, 5024, 16, 19, 36, 711, 'C', 'a', 'c', 'h', 'o', 'r', 'r']\n"
     ]
    }
   ],
   "source": [
    "print(lista7)"
   ]
  },
  {
   "cell_type": "markdown",
   "metadata": {},
   "source": [
    "Removendo elemento por índice:"
   ]
  },
  {
   "cell_type": "code",
   "execution_count": 65,
   "metadata": {},
   "outputs": [
    {
     "data": {
      "text/plain": [
       "'Novo valor'"
      ]
     },
     "execution_count": 65,
     "metadata": {},
     "output_type": "execute_result"
    }
   ],
   "source": [
    "lista7.pop(3)"
   ]
  },
  {
   "cell_type": "code",
   "execution_count": 66,
   "metadata": {},
   "outputs": [
    {
     "name": "stdout",
     "output_type": "stream",
     "text": [
      "[1, 2, 3, 5, 6, 24, 85, 104, 1001, 5024, 16, 19, 36, 711, 'C', 'a', 'c', 'h', 'o', 'r', 'r']\n"
     ]
    }
   ],
   "source": [
    "print(lista7)"
   ]
  },
  {
   "cell_type": "markdown",
   "metadata": {},
   "source": [
    "Removendo todos os elementos da lista:"
   ]
  },
  {
   "cell_type": "code",
   "execution_count": 67,
   "metadata": {},
   "outputs": [
    {
     "name": "stdout",
     "output_type": "stream",
     "text": [
      "[]\n"
     ]
    }
   ],
   "source": [
    "lista7.clear()\n",
    "print(lista7)"
   ]
  },
  {
   "cell_type": "markdown",
   "metadata": {},
   "source": [
    "Repetindo elementos da lista:"
   ]
  },
  {
   "cell_type": "code",
   "execution_count": 68,
   "metadata": {},
   "outputs": [
    {
     "name": "stdout",
     "output_type": "stream",
     "text": [
      "[1, 2, 3, 1, 2, 3, 1, 2, 3, 1, 2, 3, 1, 2, 3]\n"
     ]
    }
   ],
   "source": [
    "lista7 = [1, 2, 3]\n",
    "lista7 = lista7 * 5\n",
    "print(lista7)"
   ]
  },
  {
   "cell_type": "markdown",
   "metadata": {},
   "source": [
    "Convertendo string para lista:"
   ]
  },
  {
   "cell_type": "code",
   "execution_count": 69,
   "metadata": {},
   "outputs": [
    {
     "name": "stdout",
     "output_type": "stream",
     "text": [
      "Hoje não choveu ainda\n",
      "['Hoje', 'não', 'choveu', 'ainda']\n"
     ]
    }
   ],
   "source": [
    "frase1 = \"Hoje não choveu ainda\"\n",
    "print(frase1)\n",
    "frase1 = frase1.split()\n",
    "print(frase1)"
   ]
  },
  {
   "cell_type": "code",
   "execution_count": 70,
   "metadata": {},
   "outputs": [
    {
     "name": "stdout",
     "output_type": "stream",
     "text": [
      "Oi,olá,ei\n",
      "['Oi', 'olá', 'ei']\n"
     ]
    }
   ],
   "source": [
    "frase2 = \"Oi,olá,ei\"\n",
    "print(frase2)\n",
    "frase2 = frase2.split(\",\")  # Definindo o separador como vírgula\n",
    "print(frase2)"
   ]
  },
  {
   "cell_type": "markdown",
   "metadata": {},
   "source": [
    "Convertendo a lista em string:"
   ]
  },
  {
   "cell_type": "code",
   "execution_count": 71,
   "metadata": {},
   "outputs": [
    {
     "name": "stdout",
     "output_type": "stream",
     "text": [
      "['Hoje', 'não', 'choveu', 'ainda']\n",
      "Hoje não choveu ainda\n"
     ]
    }
   ],
   "source": [
    "print(frase1)\n",
    "frase1 = \" \".join(frase1)\n",
    "print(frase1)"
   ]
  },
  {
   "cell_type": "markdown",
   "metadata": {},
   "source": [
    "Iterando sobre uma lista:"
   ]
  },
  {
   "cell_type": "code",
   "execution_count": 72,
   "metadata": {},
   "outputs": [
    {
     "name": "stdout",
     "output_type": "stream",
     "text": [
      "[1, 2, 3, 4, 5, 6, 7, 8, 9, 10]\n",
      "\n",
      "Soma dos elementos da lista: 55\n"
     ]
    }
   ],
   "source": [
    "lista8 = list(range(1, 11))\n",
    "print(lista8)\n",
    "\n",
    "soma = 0\n",
    "for elemento in lista8:\n",
    "    soma += elemento  # equivalente a soma = soma + elemento.\n",
    "\n",
    "print(f\"\\nSoma dos elementos da lista: {soma}\")"
   ]
  },
  {
   "cell_type": "code",
   "execution_count": 73,
   "metadata": {},
   "outputs": [
    {
     "name": "stdout",
     "output_type": "stream",
     "text": [
      "Adicione um produto ao carrinho ou digite 'sair' para sair: laranja\n",
      "Adicione um produto ao carrinho ou digite 'sair' para sair: mexerica\n",
      "Adicione um produto ao carrinho ou digite 'sair' para sair: uva\n",
      "Adicione um produto ao carrinho ou digite 'sair' para sair: banana\n",
      "Adicione um produto ao carrinho ou digite 'sair' para sair: sair\n",
      "\n",
      "Carrinho:\n",
      "laranja\n",
      "mexerica\n",
      "uva\n",
      "banana\n"
     ]
    }
   ],
   "source": [
    "carrinho = []\n",
    "produto = \"\"\n",
    "\n",
    "while produto != \"sair\":\n",
    "    produto = input(\n",
    "        \"Adicione um produto ao carrinho ou digite 'sair' para sair: \")\n",
    "    if produto != \"sair\":\n",
    "        carrinho.append(produto)\n",
    "print(\"\\nCarrinho:\")\n",
    "for item in carrinho:\n",
    "    print(item)"
   ]
  },
  {
   "cell_type": "markdown",
   "metadata": {},
   "source": [
    "Também é possível usar variáveis dentro de listas:"
   ]
  },
  {
   "cell_type": "code",
   "execution_count": 74,
   "metadata": {},
   "outputs": [
    {
     "name": "stdout",
     "output_type": "stream",
     "text": [
      "['verde', 'amarelo', 'azul']\n"
     ]
    }
   ],
   "source": [
    "cor1 = 'verde'\n",
    "cor2 = 'amarelo'\n",
    "cor3 = 'azul'\n",
    "lista10 = [cor1, cor2, cor3]\n",
    "print(lista10)"
   ]
  },
  {
   "cell_type": "markdown",
   "metadata": {},
   "source": [
    "Acessando elementos pelo índice:"
   ]
  },
  {
   "cell_type": "code",
   "execution_count": 75,
   "metadata": {},
   "outputs": [
    {
     "name": "stdout",
     "output_type": "stream",
     "text": [
      "verde\n",
      "amarelo\n",
      "azul\n"
     ]
    }
   ],
   "source": [
    "print(lista10[0])\n",
    "print(lista10[1])\n",
    "print(lista10[2])"
   ]
  },
  {
   "cell_type": "markdown",
   "metadata": {},
   "source": [
    "Descobrindo o índice sem usar o enumerate:"
   ]
  },
  {
   "cell_type": "code",
   "execution_count": 76,
   "metadata": {},
   "outputs": [
    {
     "name": "stdout",
     "output_type": "stream",
     "text": [
      "[1, 2, 3, 'Novo valor', 5, 6, 24, 85, 104, 1001, 5024, 16, 19, 36, 711]\n",
      "\n",
      "O índice da lista que contém o elemento 5 é: 4\n",
      "\n",
      "O índice da lista que contém o elemento 5 é: 4\n",
      "\n",
      "O índice da lista que contém o elemento 5 é: 4\n"
     ]
    }
   ],
   "source": [
    "print(lista5)\n",
    "print(f\"\\nO índice da lista que contém o elemento 5 é: {lista5.index(5)}\")\n",
    "#Começando a busca pelo índice que contém o elemento 5 a partir do índice 3:\n",
    "print(f\"\\nO índice da lista que contém o elemento 5 é: {lista5.index(5,3)}\")\n",
    "#Buscando o índice que contém o elemento 5 dentro do intervalo de índices 3 a 7:\n",
    "print(f\"\\nO índice da lista que contém o elemento 5 é: {lista5.index(5,3,7)}\")"
   ]
  },
  {
   "cell_type": "markdown",
   "metadata": {},
   "source": [
    "Revisando slicing:\n",
    "\n",
    "• lista[início:fim:passo]\n",
    "\n",
    "• range[início:fim:passo]\n"
   ]
  },
  {
   "cell_type": "code",
   "execution_count": 77,
   "metadata": {},
   "outputs": [
    {
     "name": "stdout",
     "output_type": "stream",
     "text": [
      "[2, 3, 'Novo valor', 5, 6, 24, 85, 104, 1001, 5024, 16, 19, 36, 711]\n",
      "[711]\n",
      "[1, 2, 3]\n",
      "[1, 2, 3, 'Novo valor', 5, 6, 24, 85, 104, 1001, 5024, 16, 19, 36, 711]\n"
     ]
    }
   ],
   "source": [
    "print(lista5[1:])  # Começando no índice 1 e pegando todo o resto\n",
    "print(lista5[-1:])  # Pega o último elemento\n",
    "print(lista5[0:3])  # Pegando os 3 primeiros\n",
    "print(lista5[::])  # Pegando todos os elementos"
   ]
  },
  {
   "cell_type": "markdown",
   "metadata": {},
   "source": [
    "Outras funções:"
   ]
  },
  {
   "cell_type": "code",
   "execution_count": 78,
   "metadata": {},
   "outputs": [
    {
     "name": "stdout",
     "output_type": "stream",
     "text": [
      "[1, 2, 3, 5, 6, 24, 85, 104, 1001, 5024, 16, 19, 36, 711]\n",
      "7037\n",
      "1\n",
      "5024\n",
      "14\n"
     ]
    }
   ],
   "source": [
    "lista5.pop(3)\n",
    "print(lista5)\n",
    "print(sum(lista5))  # Soma dos elementos da lista\n",
    "print(min(lista5))  # Menor elemento da lista\n",
    "print(max(lista5))  # Maior elemento da lista\n",
    "print(len(lista5))  # Tamanho da lista"
   ]
  },
  {
   "cell_type": "markdown",
   "metadata": {},
   "source": [
    "Desempacotamento de lista:"
   ]
  },
  {
   "cell_type": "code",
   "execution_count": 79,
   "metadata": {},
   "outputs": [
    {
     "name": "stdout",
     "output_type": "stream",
     "text": [
      "verde\n",
      "amarelo\n",
      "azul\n"
     ]
    }
   ],
   "source": [
    "x, y, z = lista10\n",
    "print(x)\n",
    "print(y)\n",
    "print(z)"
   ]
  },
  {
   "cell_type": "markdown",
   "metadata": {},
   "source": [
    "Deep Copy e Shallow Copy:"
   ]
  },
  {
   "cell_type": "code",
   "execution_count": 80,
   "metadata": {},
   "outputs": [
    {
     "name": "stdout",
     "output_type": "stream",
     "text": [
      "[1, 2, 3, 4, 5, 6]\n",
      "[1, 2, 3, 4, 5]\n",
      "\n",
      "\n",
      "\n",
      "[1, 2, 3, 4, 5, 6]\n",
      "[1, 2, 3, 4, 5, 6]\n"
     ]
    }
   ],
   "source": [
    "lista = [1, 2, 3, 4, 5]\n",
    "lista_nova = lista.copy()  # 1ª forma de copiar\n",
    "lista_nova.append(6)\n",
    "print(lista_nova)\n",
    "print(lista)\n",
    "# A partir do momento em que copiamos o conteúdo de 'lista' para 'lista_nova', elas se tornam independentes.\n",
    "# Ou seja, ao modificar uma lista, você não afeta a outra. Em Python, isso é chamado de 'Deep Copy'.\n",
    "print(\"\\n\\n\")\n",
    "lista = [1, 2, 3, 4, 5]\n",
    "lista_nova = lista  # 2ª forma de copiar\n",
    "lista_nova.append(6)\n",
    "print(lista_nova)\n",
    "print(lista)\n",
    "# Dessa forma, ao alterar uma, a outra também é alterada. Em Python, isso é chamado de 'Shallow Copy'."
   ]
  },
  {
   "cell_type": "markdown",
   "metadata": {},
   "source": [
    "#### - Tuplas:\n",
    "Tuplas são bastante parecidas com listas, com algumas diferenças:\n",
    "\n",
    "As tuplas são representadas por parênteses ().\n",
    "\n",
    "As tuplas são imutáveis: ao se criar uma tupla, ela não muda, qualquer operação em uma tupla gera outra tupla. Portanto, não existem métodos para adição ou remoção de elementos de tuplas."
   ]
  },
  {
   "cell_type": "code",
   "execution_count": 81,
   "metadata": {},
   "outputs": [
    {
     "name": "stdout",
     "output_type": "stream",
     "text": [
      "<class 'tuple'>\n"
     ]
    }
   ],
   "source": [
    "print(type(()))"
   ]
  },
  {
   "cell_type": "code",
   "execution_count": 82,
   "metadata": {},
   "outputs": [
    {
     "name": "stdout",
     "output_type": "stream",
     "text": [
      "<class 'tuple'>\n"
     ]
    }
   ],
   "source": [
    "tupla1 = (1, 2, 3, 4, 5)\n",
    "print(type(tupla1))"
   ]
  },
  {
   "cell_type": "code",
   "execution_count": 83,
   "metadata": {},
   "outputs": [
    {
     "name": "stdout",
     "output_type": "stream",
     "text": [
      "<class 'tuple'>\n"
     ]
    }
   ],
   "source": [
    "tupla2 = 1, 2, 3, 4, 5\n",
    "print(type(tupla2))"
   ]
  },
  {
   "cell_type": "code",
   "execution_count": 84,
   "metadata": {},
   "outputs": [
    {
     "name": "stdout",
     "output_type": "stream",
     "text": [
      "<class 'int'>\n",
      "<class 'tuple'>\n"
     ]
    }
   ],
   "source": [
    "caso1 = (1)  # Não é uma tupla\n",
    "print(type(caso1))\n",
    "caso2 = (1, )  # É uma tupla\n",
    "print(type(caso2))"
   ]
  },
  {
   "cell_type": "code",
   "execution_count": 85,
   "metadata": {},
   "outputs": [
    {
     "name": "stdout",
     "output_type": "stream",
     "text": [
      "(1, 2, 3, 4, 5, 6, 7, 8, 9, 10)\n",
      "1\n",
      "10\n",
      "55\n",
      "10\n"
     ]
    }
   ],
   "source": [
    "tupla = tuple(range(1, 11))\n",
    "print(tupla)\n",
    "print(min(tupla))\n",
    "print(max(tupla))\n",
    "print(sum(tupla))\n",
    "print(len(tupla))"
   ]
  },
  {
   "cell_type": "code",
   "execution_count": 86,
   "metadata": {},
   "outputs": [
    {
     "name": "stdout",
     "output_type": "stream",
     "text": [
      "Joaquim\n",
      "da Silva\n"
     ]
    }
   ],
   "source": [
    "# Desempacotamento de tupla:\n",
    "tupla = (\"Joaquim\", \"da Silva\")\n",
    "nome, sobrenome = tupla\n",
    "print(nome)\n",
    "print(sobrenome)"
   ]
  },
  {
   "cell_type": "code",
   "execution_count": 87,
   "metadata": {},
   "outputs": [
    {
     "name": "stdout",
     "output_type": "stream",
     "text": [
      "(1, 2, 3, 4, 5)\n"
     ]
    }
   ],
   "source": [
    "tupla1 = (1, 2, 3)\n",
    "tupla2 = (4, 5)\n",
    "tupla3 = tupla1 + tupla2\n",
    "print(tupla3)"
   ]
  },
  {
   "cell_type": "code",
   "execution_count": 88,
   "metadata": {},
   "outputs": [
    {
     "name": "stdout",
     "output_type": "stream",
     "text": [
      "True\n"
     ]
    }
   ],
   "source": [
    "print(4 in tupla3)"
   ]
  },
  {
   "cell_type": "code",
   "execution_count": 89,
   "metadata": {},
   "outputs": [
    {
     "name": "stdout",
     "output_type": "stream",
     "text": [
      "False\n"
     ]
    }
   ],
   "source": [
    "print(6 in tupla3)"
   ]
  },
  {
   "cell_type": "code",
   "execution_count": 90,
   "metadata": {},
   "outputs": [
    {
     "name": "stdout",
     "output_type": "stream",
     "text": [
      "1\n",
      "2\n",
      "3\n",
      "4\n",
      "5\n"
     ]
    }
   ],
   "source": [
    "# Iterando em uma tupla:\n",
    "for i in tupla3:\n",
    "    print(i)"
   ]
  },
  {
   "cell_type": "code",
   "execution_count": 91,
   "metadata": {},
   "outputs": [
    {
     "name": "stdout",
     "output_type": "stream",
     "text": [
      "1\n",
      "2\n",
      "3\n",
      "4\n",
      "5\n"
     ]
    }
   ],
   "source": [
    "for índice, valor in enumerate(tupla3):\n",
    "    print(valor)"
   ]
  },
  {
   "cell_type": "code",
   "execution_count": 92,
   "metadata": {},
   "outputs": [
    {
     "name": "stdout",
     "output_type": "stream",
     "text": [
      "1\n",
      "2\n",
      "3\n",
      "4\n",
      "5\n"
     ]
    }
   ],
   "source": [
    "i = 0\n",
    "while i < len(tupla3):\n",
    "    print(tupla3[i])\n",
    "    i += 1"
   ]
  },
  {
   "cell_type": "code",
   "execution_count": 93,
   "metadata": {},
   "outputs": [
    {
     "name": "stdout",
     "output_type": "stream",
     "text": [
      "3\n"
     ]
    }
   ],
   "source": [
    "# Contando elementos em tuplas:\n",
    "tupla = (1, 2, 3, 1, 5, 7, 7, 12, 1)\n",
    "print(tupla.count(1))"
   ]
  },
  {
   "cell_type": "markdown",
   "metadata": {},
   "source": [
    "Devemos utilizar tuplas **sempre** que não precisarmos modificar os dados contidos em uma coleção."
   ]
  },
  {
   "cell_type": "code",
   "execution_count": 94,
   "metadata": {},
   "outputs": [],
   "source": [
    "# Exemplo:\n",
    "meses = ('Janeiro', 'Fevereiro', 'Março', 'Abril', 'Maio', 'Junho', 'Julho',\n",
    "         'Agosto', 'Setembro', 'Outubro', 'Novembro', 'Dezembro')\n",
    "# Não faz sentido adicionar algum elemento a uma coleção que representa os meses.\n",
    "# Portanto, nesse caso devemos utilizar uma tupla para representá-los, não uma lista.\n",
    "# Assim prevenimos a possibilidade de alguém querer adicionar algum elemento com um '.append()', por exemplo."
   ]
  },
  {
   "cell_type": "code",
   "execution_count": 95,
   "metadata": {},
   "outputs": [
    {
     "name": "stdout",
     "output_type": "stream",
     "text": [
      "Maio é o mês 5\n"
     ]
    }
   ],
   "source": [
    "print(f\"Maio é o mês {meses.index('Maio') + 1}\")"
   ]
  },
  {
   "cell_type": "code",
   "execution_count": 96,
   "metadata": {},
   "outputs": [
    {
     "name": "stdout",
     "output_type": "stream",
     "text": [
      "('Janeiro', 'Fevereiro', 'Março', 'Abril', 'Maio', 'Junho', 'Julho', 'Agosto', 'Setembro', 'Outubro', 'Novembro', 'Dezembro')\n",
      "('Abril', 'Maio', 'Junho')\n"
     ]
    }
   ],
   "source": [
    "# Slicing:\n",
    "print(meses[0:])\n",
    "print(meses[3:6])"
   ]
  },
  {
   "cell_type": "markdown",
   "metadata": {},
   "source": [
    "##### Por que utilizar tuplas?\n",
    "- Tuplas são mais rápidas que listas\n",
    "- Tuplas deixam seu código mais seguro"
   ]
  },
  {
   "cell_type": "markdown",
   "metadata": {},
   "source": [
    "#### - Dicionários:\n",
    "Dicionários são coleções do tipo chave e valor.\n",
    "\n",
    "Dicionários são representados por {}.\n",
    "\n",
    "Chave e valor são separados por dois pontos \":\" e podem ser de **qualquer** tipo de dado, inclusive distintos entre si.\n",
    "\n",
    "Não podemos ter chaves repetidas!"
   ]
  },
  {
   "cell_type": "code",
   "execution_count": 97,
   "metadata": {},
   "outputs": [
    {
     "name": "stdout",
     "output_type": "stream",
     "text": [
      "<class 'dict'>\n"
     ]
    }
   ],
   "source": [
    "print(type({}))"
   ]
  },
  {
   "cell_type": "markdown",
   "metadata": {},
   "source": [
    "Criando dicionários:"
   ]
  },
  {
   "cell_type": "code",
   "execution_count": 98,
   "metadata": {},
   "outputs": [
    {
     "name": "stdout",
     "output_type": "stream",
     "text": [
      "{'BR': 'Brasil', 'EUA': 'Estados Unidos', 'FR': 'França'}\n",
      "{'BR': 'Brasil', 'EUA': 'Estados Unidos', 'FR': 'França'}\n"
     ]
    }
   ],
   "source": [
    "# Forma 1:\n",
    "paises = {'BR': 'Brasil', 'EUA': 'Estados Unidos', 'FR': 'França'}\n",
    "print(paises)\n",
    "# Forma 2 (menos usual):\n",
    "paises = dict(BR='Brasil', EUA='Estados Unidos', FR='França')\n",
    "print(paises)"
   ]
  },
  {
   "cell_type": "markdown",
   "metadata": {},
   "source": [
    "Acessando dicionários:"
   ]
  },
  {
   "cell_type": "code",
   "execution_count": 99,
   "metadata": {},
   "outputs": [
    {
     "name": "stdout",
     "output_type": "stream",
     "text": [
      "França\n",
      "França\n",
      "None\n"
     ]
    }
   ],
   "source": [
    "# Forma 1:\n",
    "print(paises['FR'])\n",
    "# Se tentar uma chave que não existe, como por exemplo \"paises['AB']\", dá KeyError\n",
    "# Forma 2 (recomendada):\n",
    "print(paises.get('FR'))\n",
    "print(\n",
    "    paises.get('AB')\n",
    ")  # Ao tentar uma chave que não existe, o resultado é 'None' (sem tipo) ao invés de um erro."
   ]
  },
  {
   "cell_type": "code",
   "execution_count": 100,
   "metadata": {},
   "outputs": [
    {
     "name": "stdout",
     "output_type": "stream",
     "text": [
      "Não encontrei o país!\n"
     ]
    }
   ],
   "source": [
    "pais = paises.get('AB')\n",
    "if pais:\n",
    "    print(\"Encontrei o país!\")\n",
    "else:\n",
    "    print(\"Não encontrei o país!\")"
   ]
  },
  {
   "cell_type": "code",
   "execution_count": 101,
   "metadata": {},
   "outputs": [
    {
     "name": "stdout",
     "output_type": "stream",
     "text": [
      "Não encontrado\n",
      "França\n"
     ]
    }
   ],
   "source": [
    "# É possível passar como 2º argumento do get um default, como por exemplo:\n",
    "pais = paises.get('AB', 'Não encontrado')\n",
    "print(pais)\n",
    "pais = paises.get('FR', 'Não encontrado')\n",
    "print(pais)"
   ]
  },
  {
   "cell_type": "code",
   "execution_count": 102,
   "metadata": {},
   "outputs": [
    {
     "name": "stdout",
     "output_type": "stream",
     "text": [
      "True\n",
      "True\n",
      "False\n"
     ]
    }
   ],
   "source": [
    "#Verificando se uma determinada chave está presente no dicionário:\n",
    "print('FR' in paises)\n",
    "print('BR' in paises)\n",
    "print('AB' in paises)"
   ]
  },
  {
   "cell_type": "code",
   "execution_count": 103,
   "metadata": {},
   "outputs": [
    {
     "name": "stdout",
     "output_type": "stream",
     "text": [
      "{(42.458792134, 19.24568847): 'Loja em Coast City', (22.456875216, 5.687854524): 'Loja em Star City', (53.542896345, 39.42863578): 'Loja em Central City'}\n"
     ]
    }
   ],
   "source": [
    "# Exemplo de dicionário com chaves e valores de tipos distintos:\n",
    "localidades = {\n",
    "    (42.458792134, 19.24568847): 'Loja em Coast City',\n",
    "    (22.456875216, 5.687854524): 'Loja em Star City',\n",
    "    (53.542896345, 39.42863578): 'Loja em Central City'\n",
    "}\n",
    "print(localidades)"
   ]
  },
  {
   "cell_type": "markdown",
   "metadata": {},
   "source": [
    "Adicionando elementos a um dicionário:"
   ]
  },
  {
   "cell_type": "code",
   "execution_count": 104,
   "metadata": {},
   "outputs": [
    {
     "name": "stdout",
     "output_type": "stream",
     "text": [
      "{'BR': 'Brasil', 'EUA': 'Estados Unidos', 'FR': 'França', 'ARG': 'Argentina'}\n",
      "{'BR': 'Brasil', 'EUA': 'Estados Unidos', 'FR': 'França', 'ARG': 'Argentina', 'ALE': 'Alemanha'}\n"
     ]
    }
   ],
   "source": [
    "# Forma 1:\n",
    "paises['ARG'] = 'Argentina'\n",
    "print(paises)\n",
    "# Forma 2:\n",
    "paises.update({'ALE': 'Alemanha'})\n",
    "print(paises)"
   ]
  },
  {
   "cell_type": "markdown",
   "metadata": {},
   "source": [
    "Atualizando dados em um dicionário:"
   ]
  },
  {
   "cell_type": "code",
   "execution_count": 105,
   "metadata": {},
   "outputs": [
    {
     "name": "stdout",
     "output_type": "stream",
     "text": [
      "{'BR': 'Brasil', 'EUA': 'Estados Unidos da América', 'FR': 'França', 'ARG': 'Argentina', 'ALE': 'Alemanha'}\n"
     ]
    }
   ],
   "source": [
    "paises.update({'EUA': 'Estados Unidos da América'})\n",
    "print(paises)"
   ]
  },
  {
   "cell_type": "markdown",
   "metadata": {},
   "source": [
    "Removendo elementos do dicionário:"
   ]
  },
  {
   "cell_type": "code",
   "execution_count": 106,
   "metadata": {},
   "outputs": [
    {
     "name": "stdout",
     "output_type": "stream",
     "text": [
      "Estados Unidos da América\n",
      "{'BR': 'Brasil', 'FR': 'França', 'ARG': 'Argentina', 'ALE': 'Alemanha'}\n"
     ]
    }
   ],
   "source": [
    "print(paises.pop(\n",
    "    'EUA'))  # Remove e retorna o elemento que está na chave informada\n",
    "print(paises)"
   ]
  },
  {
   "cell_type": "code",
   "execution_count": 107,
   "metadata": {},
   "outputs": [
    {
     "name": "stdout",
     "output_type": "stream",
     "text": [
      "{'BR': 'Brasil', 'FR': 'França', 'ALE': 'Alemanha'}\n"
     ]
    }
   ],
   "source": [
    "del paises['ARG']  # Remove mas não retorna o valor removido\n",
    "print(paises)"
   ]
  },
  {
   "cell_type": "code",
   "execution_count": 109,
   "metadata": {},
   "outputs": [
    {
     "name": "stdout",
     "output_type": "stream",
     "text": [
      "[{'nome': 'Console Nintendo Switch', 'quantidade': 1, 'valor': 2100}, {'nome': 'Jogo Super Mario Odyssey', 'quantidade': 1, 'valor': 300}]\n"
     ]
    }
   ],
   "source": [
    "carrinho = []\n",
    "produto1 = {'nome': 'Console Nintendo Switch', 'quantidade': 1, 'valor': 2100}\n",
    "produto2 = {'nome': 'Jogo Super Mario Odyssey', 'quantidade': 1, 'valor': 300}\n",
    "carrinho.extend([produto1, produto2])\n",
    "print(carrinho)"
   ]
  },
  {
   "cell_type": "markdown",
   "metadata": {},
   "source": [
    "Métodos em dicionários:"
   ]
  },
  {
   "cell_type": "code",
   "execution_count": 113,
   "metadata": {},
   "outputs": [
    {
     "name": "stdout",
     "output_type": "stream",
     "text": [
      "{'a': 10, 'b': 15, 'c': 9, 'd': 22}\n"
     ]
    }
   ],
   "source": [
    "dicionario = {'a': 10, 'b': 15, 'c': 9, 'd': 22}\n",
    "print(dicionario)"
   ]
  },
  {
   "cell_type": "code",
   "execution_count": 114,
   "metadata": {},
   "outputs": [
    {
     "name": "stdout",
     "output_type": "stream",
     "text": [
      "{'a': 10, 'b': 15, 'c': 9, 'd': 22, 'e': 2}\n",
      "{'a': 10, 'b': 15, 'c': 9, 'd': 22}\n"
     ]
    }
   ],
   "source": [
    "novo = dicionario.copy()  # Deep Copy\n",
    "novo['e'] = 2\n",
    "print(novo)\n",
    "print(dicionario)"
   ]
  },
  {
   "cell_type": "code",
   "execution_count": 115,
   "metadata": {},
   "outputs": [
    {
     "name": "stdout",
     "output_type": "stream",
     "text": [
      "{'a': 10, 'b': 15, 'c': 9, 'd': 22, 'e': 4}\n",
      "{'a': 10, 'b': 15, 'c': 9, 'd': 22, 'e': 4}\n"
     ]
    }
   ],
   "source": [
    "novo = dicionario  # Shallow Copy\n",
    "novo['e'] = 4\n",
    "print(novo)\n",
    "print(dicionario)"
   ]
  },
  {
   "cell_type": "code",
   "execution_count": 112,
   "metadata": {},
   "outputs": [
    {
     "name": "stdout",
     "output_type": "stream",
     "text": [
      "{}\n"
     ]
    }
   ],
   "source": [
    "# Limpando dicionário:\n",
    "dicionario.clear()\n",
    "print(dicionario)"
   ]
  },
  {
   "cell_type": "code",
   "execution_count": 125,
   "metadata": {},
   "outputs": [
    {
     "name": "stdout",
     "output_type": "stream",
     "text": [
      "{'nome': 'João'}\n",
      "\n",
      "\n",
      "{'nome': 'Desconhecido', 'e-mail': 'Desconhecido', 'telefone': 'Desconhecido'}\n",
      "\n",
      "\n",
      "{'a': 'Desconhecido', 'b': 'Desconhecido', 'c': 'Desconhecido', 'd': 'Desconhecido', 'e': 'Desconhecido'}\n",
      "\n",
      "\n",
      "{1: 'Desconhecido', 2: 'Desconhecido', 3: 'Desconhecido', 4: 'Desconhecido', 5: 'Desconhecido', 6: 'Desconhecido', 7: 'Desconhecido', 8: 'Desconhecido', 9: 'Desconhecido', 10: 'Desconhecido'}\n"
     ]
    }
   ],
   "source": [
    "# Forma não usual de criar dicionário:\n",
    "dicionario = {}.fromkeys(['nome'], 'João')\n",
    "print(dicionario)\n",
    "print('\\n')\n",
    "dicionario = {}.fromkeys(['nome', 'e-mail', 'telefone'], 'Desconhecido')\n",
    "print(dicionario)\n",
    "print('\\n')\n",
    "dicionario = {}.fromkeys('abcde', 'Desconhecido')\n",
    "print(dicionario)\n",
    "print('\\n')\n",
    "dicionario = {}.fromkeys(range(1, 11), 'Desconhecido')\n",
    "print(dicionario)"
   ]
  },
  {
   "cell_type": "markdown",
   "metadata": {},
   "source": [
    "Iterando sobre dicionários:"
   ]
  },
  {
   "cell_type": "code",
   "execution_count": 126,
   "metadata": {},
   "outputs": [
    {
     "name": "stdout",
     "output_type": "stream",
     "text": [
      "{'jan': 535, 'fev': 389, 'mar': 480, 'abr': 660, 'mai': 850}\n"
     ]
    }
   ],
   "source": [
    "receita = {'jan': 535, 'fev': 389, 'mar': 480, 'abr': 660, 'mai': 850}\n",
    "print(receita)"
   ]
  },
  {
   "cell_type": "code",
   "execution_count": 130,
   "metadata": {},
   "outputs": [
    {
     "name": "stdout",
     "output_type": "stream",
     "text": [
      "jan: R$535\n",
      "fev: R$389\n",
      "mar: R$480\n",
      "abr: R$660\n",
      "mai: R$850\n"
     ]
    }
   ],
   "source": [
    "for chave in receita:\n",
    "    print(f\"{chave}: R${receita[chave]}\")"
   ]
  },
  {
   "cell_type": "code",
   "execution_count": 131,
   "metadata": {},
   "outputs": [
    {
     "name": "stdout",
     "output_type": "stream",
     "text": [
      "dict_keys(['jan', 'fev', 'mar', 'abr', 'mai'])\n"
     ]
    }
   ],
   "source": [
    "print(receita.keys())"
   ]
  },
  {
   "cell_type": "code",
   "execution_count": 134,
   "metadata": {},
   "outputs": [
    {
     "name": "stdout",
     "output_type": "stream",
     "text": [
      "dict_values([535, 389, 480, 660, 850])\n"
     ]
    }
   ],
   "source": [
    "print(receita.values())"
   ]
  },
  {
   "cell_type": "code",
   "execution_count": 133,
   "metadata": {},
   "outputs": [
    {
     "name": "stdout",
     "output_type": "stream",
     "text": [
      "535\n",
      "389\n",
      "480\n",
      "660\n",
      "850\n"
     ]
    }
   ],
   "source": [
    "for chave in receita.keys():\n",
    "    print(receita[chave])"
   ]
  },
  {
   "cell_type": "code",
   "execution_count": 135,
   "metadata": {},
   "outputs": [
    {
     "name": "stdout",
     "output_type": "stream",
     "text": [
      "535\n",
      "389\n",
      "480\n",
      "660\n",
      "850\n"
     ]
    }
   ],
   "source": [
    "for valor in receita.values():\n",
    "    print(valor)"
   ]
  },
  {
   "cell_type": "code",
   "execution_count": 136,
   "metadata": {},
   "outputs": [
    {
     "name": "stdout",
     "output_type": "stream",
     "text": [
      "chave = jan e valor = 535\n",
      "chave = fev e valor = 389\n",
      "chave = mar e valor = 480\n",
      "chave = abr e valor = 660\n",
      "chave = mai e valor = 850\n"
     ]
    }
   ],
   "source": [
    "# Desempacotamento de dicionários:\n",
    "for chave, valor in receita.items():\n",
    "    print(f'chave = {chave} e valor = {valor}')"
   ]
  },
  {
   "cell_type": "markdown",
   "metadata": {},
   "source": [
    "Se os valores do dicionário forem do tipo inteiro ou real, podemos utilizar os métodos *sum, min, max*:"
   ]
  },
  {
   "cell_type": "code",
   "execution_count": 138,
   "metadata": {},
   "outputs": [
    {
     "name": "stdout",
     "output_type": "stream",
     "text": [
      "389\n",
      "850\n",
      "2914\n"
     ]
    }
   ],
   "source": [
    "print(min(receita.values()))\n",
    "print(max(receita.values()))\n",
    "print(sum(receita.values()))"
   ]
  },
  {
   "cell_type": "code",
   "execution_count": 140,
   "metadata": {},
   "outputs": [
    {
     "name": "stdout",
     "output_type": "stream",
     "text": [
      "5\n"
     ]
    }
   ],
   "source": [
    "# Vendo o tamanho do dicionário:\n",
    "print(len(receita))"
   ]
  },
  {
   "cell_type": "markdown",
   "metadata": {},
   "source": [
    "#### - Conjuntos:"
   ]
  },
  {
   "cell_type": "markdown",
   "metadata": {},
   "source": [
    "- Diz respeito à Teoria dos Conjuntos da Matemática\n",
    "- Em Python, conjuntos são chamados de 'sets'\n",
    "- Sets não possuem valores duplicados, não possuem valores ordenados e seus elementos **não** são acessados via índice!\n",
    "- Sets são referenciados por {}\n",
    "- Pode haver elementos de tipos diferentes no mesmo conjunto"
   ]
  },
  {
   "cell_type": "code",
   "execution_count": 8,
   "metadata": {},
   "outputs": [
    {
     "name": "stdout",
     "output_type": "stream",
     "text": [
      "{1, 2, 3, 4, 6, 8}\n",
      "<class 'set'>\n",
      "{1, 2, 3, 4, 6, 8}\n",
      "<class 'set'>\n"
     ]
    }
   ],
   "source": [
    "# Definindo um conjunto:\n",
    "# Jeito 1:\n",
    "s = set({1, 4, 2, 2, 8, 6, 8, 8, 2, 3})\n",
    "print(s)\n",
    "print(type(s))\n",
    "# Jeito 2:\n",
    "s = {1, 4, 2, 2, 8, 6, 8, 8, 2, 3}\n",
    "print(s)\n",
    "print(type(s))"
   ]
  },
  {
   "cell_type": "code",
   "execution_count": 12,
   "metadata": {},
   "outputs": [
    {
     "name": "stdout",
     "output_type": "stream",
     "text": [
      "{1, 2, 3, 4, 6, 8}\n",
      "<class 'set'>\n",
      "{1, 2, 3, 4, 6, 8}\n",
      "<class 'set'>\n",
      "{'c', 'a', 'b'}\n",
      "<class 'set'>\n"
     ]
    }
   ],
   "source": [
    "# Definindo um conjunto a partir de outros tipos de dados:\n",
    "s = set([1, 4, 2, 2, 8, 6, 8, 8, 2, 3])  # Lista\n",
    "print(s)\n",
    "print(type(s))\n",
    "s = set((1, 4, 2, 2, 8, 6, 8, 8, 2, 3))  # Tupla\n",
    "print(s)\n",
    "print(type(s))\n",
    "s = set(\"abc\")\n",
    "print(s)\n",
    "print(type(s))"
   ]
  },
  {
   "cell_type": "code",
   "execution_count": 19,
   "metadata": {},
   "outputs": [
    {
     "name": "stdout",
     "output_type": "stream",
     "text": [
      "O número 7 está presente no conjunto\n"
     ]
    }
   ],
   "source": [
    "# É possível verificar se um item está presente ou não num conjunto:\n",
    "conjunto = {1, 3, 7, 2, 13}\n",
    "elemento = 7\n",
    "if elemento in conjunto:\n",
    "    print(f\"O número {elemento} está presente no conjunto\")\n",
    "else:\n",
    "    print(f\"O número {elemento} não está presente no conjunto\")"
   ]
  },
  {
   "cell_type": "code",
   "execution_count": 20,
   "metadata": {},
   "outputs": [
    {
     "name": "stdout",
     "output_type": "stream",
     "text": [
      "{1, 2, 3, 7, 13, 16}\n"
     ]
    }
   ],
   "source": [
    "# Adicionando elemento a um conjunto:\n",
    "conjunto.add(16)\n",
    "print(conjunto)"
   ]
  },
  {
   "cell_type": "code",
   "execution_count": 21,
   "metadata": {},
   "outputs": [
    {
     "name": "stdout",
     "output_type": "stream",
     "text": [
      "{1, 2, 3, 13, 16}\n",
      "{1, 3, 13, 16}\n",
      "O número 7 não está presente no conjunto\n"
     ]
    }
   ],
   "source": [
    "# Removendo elemento de um conjunto:\n",
    "# Jeito 1:\n",
    "conjunto.remove(7)\n",
    "print(conjunto)\n",
    "# Jeito 2:\n",
    "conjunto.discard(2)\n",
    "print(conjunto)\n",
    "if elemento in conjunto:\n",
    "    print(f\"O número {elemento} está presente no conjunto\")\n",
    "else:\n",
    "    print(f\"O número {elemento} não está presente no conjunto\")"
   ]
  },
  {
   "cell_type": "markdown",
   "metadata": {},
   "source": [
    "Não há problema em tentar adicionar ao set um elemento que já existe, pois ele automaticamente será ignorado. No entanto, tentar remover um elemento que não está presente no set com a função 'remove' irá gerar um erro do tipo 'KeyError', já com o 'discard' não acontecerá nada."
   ]
  },
  {
   "cell_type": "markdown",
   "metadata": {},
   "source": [
    "Métodos matemáticos de conjuntos:"
   ]
  },
  {
   "cell_type": "code",
   "execution_count": 31,
   "metadata": {},
   "outputs": [
    {
     "name": "stdout",
     "output_type": "stream",
     "text": [
      "Estudantes de Python:  {'Gabriel', 'Raquel', 'Maria', 'João', 'José'}\n",
      "Estudantes de Java:  {'Mateus', 'Maria', 'Gabriel', 'Fernando'}\n",
      "\n",
      "\n",
      "Pessoas que estudam Python ou Java:\n",
      "{'Gabriel', 'Raquel', 'Maria', 'Mateus', 'Fernando', 'João', 'José'}\n",
      "{'Gabriel', 'Raquel', 'Maria', 'Mateus', 'Fernando', 'João', 'José'}\n",
      "\n",
      "\n",
      "Pessoas que estudam Python e Java:\n",
      "{'Maria', 'Gabriel'}\n",
      "{'Maria', 'Gabriel'}\n",
      "\n",
      "\n",
      "Pessoas que estudam Python mas não estudam Java:\n",
      "{'João', 'Raquel', 'José'}\n",
      "\n",
      "\n",
      "Pessoas que estudam Java mas não estudam Python:\n",
      "{'Mateus', 'Fernando'}\n"
     ]
    }
   ],
   "source": [
    "estudantes_de_python = {'Gabriel', 'João', 'José', 'Maria', 'Raquel'}\n",
    "estudantes_de_java = {'Fernando', 'Mateus', 'Gabriel', 'Maria'}\n",
    "print(\"Estudantes de Python: \", estudantes_de_python)\n",
    "print(\"Estudantes de Java: \", estudantes_de_java)\n",
    "print('\\n')\n",
    "\n",
    "# União de conjuntos:\n",
    "print(\"Pessoas que estudam Python ou Java:\")\n",
    "# Jeito 1:\n",
    "uniao1 = estudantes_de_java.union(estudantes_de_python)\n",
    "print(uniao1)\n",
    "# Jeito 2:\n",
    "uniao2 = estudantes_de_java | estudantes_de_python\n",
    "print(uniao2)\n",
    "print('\\n')\n",
    "\n",
    "# Interseção de conjuntos:\n",
    "print(\"Pessoas que estudam Python e Java:\")\n",
    "# Jeito 1:\n",
    "intersecao1 = estudantes_de_java.intersection(estudantes_de_python)\n",
    "print(intersecao1)\n",
    "# Jeito 2:\n",
    "intersecao2 = estudantes_de_java & estudantes_de_python\n",
    "print(intersecao2)\n",
    "print('\\n')\n",
    "\n",
    "# Diferença em conjuntos:\n",
    "print(\"Pessoas que estudam Python mas não estudam Java:\")\n",
    "apenas_python = estudantes_de_python.difference(estudantes_de_java)\n",
    "print(apenas_python)\n",
    "print('\\n')\n",
    "print(\"Pessoas que estudam Java mas não estudam Python:\")\n",
    "apenas_java = estudantes_de_java.difference(estudantes_de_python)\n",
    "print(apenas_java)"
   ]
  },
  {
   "cell_type": "markdown",
   "metadata": {},
   "source": [
    "Assim como em outras coleções, também é possível utilizar os métodos 'len', 'min', 'max', 'sum' e 'clear' em conjuntos."
   ]
  },
  {
   "cell_type": "markdown",
   "metadata": {},
   "source": [
    "#### - Collections – Counter:"
   ]
  },
  {
   "cell_type": "markdown",
   "metadata": {},
   "source": [
    "Recebe um iterável como parâmetro e cria um objeto do tipo Collections Counter, que é parecido com um dicionário, contendo como chave o elemento da lista passada como parâmetro e como valor a quantidade de ocorrências desse elemento."
   ]
  },
  {
   "cell_type": "code",
   "execution_count": 2,
   "metadata": {},
   "outputs": [],
   "source": [
    "from collections import Counter"
   ]
  },
  {
   "cell_type": "code",
   "execution_count": 5,
   "metadata": {},
   "outputs": [
    {
     "name": "stdout",
     "output_type": "stream",
     "text": [
      "Counter({3: 4, 8: 2, 4: 1, 5: 1, 7: 1})\n"
     ]
    }
   ],
   "source": [
    "lista = [3, 4, 3, 3, 5, 7, 8, 8, 3]\n",
    "resultado = Counter(lista)\n",
    "print(resultado)"
   ]
  },
  {
   "cell_type": "code",
   "execution_count": 7,
   "metadata": {},
   "outputs": [
    {
     "name": "stdout",
     "output_type": "stream",
     "text": [
      "Counter({'i': 2, 'l': 2, 'G': 1, 'a': 1, 'r': 1, 'd': 1})\n"
     ]
    }
   ],
   "source": [
    "nome = 'Gilliard'\n",
    "resultado = Counter(nome)\n",
    "print(resultado)"
   ]
  },
  {
   "cell_type": "code",
   "execution_count": 4,
   "metadata": {},
   "outputs": [
    {
     "name": "stdout",
     "output_type": "stream",
     "text": [
      "[('de', 16), ('e', 11), ('Wikipédia', 5), ('por', 4), ('A', 3)]\n"
     ]
    }
   ],
   "source": [
    "texto = \"A Wikipédia é um projeto de enciclopédia multilíngue de licença livre, baseado na web e escrito de maneira colaborativa. O projeto encontra-se sob administração da Fundação Wikimedia, uma organização sem fins lucrativos cuja missão é 'empoderar e engajar pessoas pelo mundo para coletar e desenvolver conteúdo educacional sob uma licença livre ou no domínio público, e para disseminá-lo efetivamente e globalmente'. Integrando um dos vários projetos mantidos pela Wikimedia, os mais de 58 milhões de artigos (1 093 507 em português, até 26 de junho de 2022) hoje encontrados na Wikipédia foram escritos de forma conjunta por diversos voluntários ao redor do mundo. Quase todos os verbetes presentes no sítio eletrônico podem igualmente ser editados por qualquer pessoa com acesso à internet e ao endereço eletrônico. Em abril de 2022, havia edições ativas da Wikipédia em 315 idiomas. A Wikipédia foi lançada em 15 de janeiro de 2001 por Jimmy Wales e Larry Sanger e tornou-se a maior e mais popular obra de referência geral na internet. Em 2010, tinha cerca de 365 milhões de leitores. A Wikipédia é uma ferramenta de pesquisa amplamente utilizada por estudantes e tem influenciado o trabalho de publicitários, pedagogos, sociólogos e jornalistas, que usam seu material, mesmo que nem sempre citem suas fontes.\"\n",
    "palavras = texto.split()\n",
    "contagem = Counter(palavras)\n",
    "# Retornando as 5 palavras que mais apareceram no texto em ordem decrescente:\n",
    "print(contagem.most_common(5))"
   ]
  },
  {
   "cell_type": "code",
   "execution_count": null,
   "metadata": {},
   "outputs": [],
   "source": []
  }
 ],
 "metadata": {
  "kernelspec": {
   "display_name": "Python 3 (ipykernel)",
   "language": "python",
   "name": "python3"
  },
  "language_info": {
   "codemirror_mode": {
    "name": "ipython",
    "version": 3
   },
   "file_extension": ".py",
   "mimetype": "text/x-python",
   "name": "python",
   "nbconvert_exporter": "python",
   "pygments_lexer": "ipython3",
   "version": "3.9.12"
  }
 },
 "nbformat": 4,
 "nbformat_minor": 4
}
